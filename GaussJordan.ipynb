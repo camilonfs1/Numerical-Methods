{
 "cells": [
  {
   "cell_type": "code",
   "execution_count": 2,
   "metadata": {},
   "outputs": [],
   "source": [
    "import numpy"
   ]
  },
  {
   "cell_type": "code",
   "execution_count": 4,
   "metadata": {},
   "outputs": [],
   "source": [
    "def gaussJordan(matriz, vector):\n",
    "\n",
    "    matrix = numpy.array(matriz, dtype=numpy.float64)\n",
    "    vector = numpy.array(vector, dtype=numpy.float64)\n",
    "\n",
    "    m = len(vector)\n",
    "    x = numpy.zeros(m)    \n",
    "\n",
    "    for k in range(0, m):\n",
    "        for r in range(k+1, m):\n",
    "            factor=(matrix[r,k]/matrix[k,k])\n",
    "            vector[r]=vector[r]-(factor*vector[k])\n",
    "            for c in range(0,m):\n",
    "                matrix[r,c]=matrix[r,c]-(factor*matrix[k,c])\n",
    "\n",
    "    x[m-1]=vector[m-1]/matrix[m-1, m-1]\n",
    "\n",
    "    for r in range(m-2, -1, -1):\n",
    "        suma = 0\n",
    "        for c in range(0,m):\n",
    "            suma=suma+matrix[r,c]*x[c]\n",
    "        x[r]=(vector[r]-suma)/matrix[r, r]  \n",
    "    return x"
   ]
  },
  {
   "cell_type": "code",
   "execution_count": 20,
   "metadata": {
    "scrolled": true
   },
   "outputs": [
    {
     "name": "stdout",
     "output_type": "stream",
     "text": [
      "[10.  1.]\n"
     ]
    }
   ],
   "source": [
    "print(gaussJordan([[1,2],[10**-20,1]],[12,1]))"
   ]
  }
 ],
 "metadata": {
  "kernelspec": {
   "display_name": "Python 3",
   "language": "python",
   "name": "python3"
  },
  "language_info": {
   "codemirror_mode": {
    "name": "ipython",
    "version": 3
   },
   "file_extension": ".py",
   "mimetype": "text/x-python",
   "name": "python",
   "nbconvert_exporter": "python",
   "pygments_lexer": "ipython3",
   "version": "3.7.6"
  }
 },
 "nbformat": 4,
 "nbformat_minor": 4
}
