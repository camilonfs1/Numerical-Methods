{
 "cells": [
  {
   "cell_type": "code",
   "execution_count": 17,
   "metadata": {},
   "outputs": [],
   "source": [
    "import numpy as np"
   ]
  },
  {
   "cell_type": "code",
   "execution_count": 56,
   "metadata": {
    "scrolled": true
   },
   "outputs": [],
   "source": [
    "def seidel(a,b,x1,x2,x3):\n",
    "    \n",
    "    count = 1\n",
    "    flag = 0\n",
    "    while (flag==0):\n",
    "        print (\"----------------Iteracion \",count)\n",
    "        x=(b[0]-(a[0][1]*x2+a[0][2]*x3))/(a[0][0])\n",
    "        y=(b[1]-(a[1][0]*x+a[1][2]*x3))/(a[1][1])\n",
    "        z=(b[2]-(a[2][0]*x+a[1][2]*y))/(a[2][2])     \n",
    "\n",
    "        if(abs(x-x1)<=0.05 and abs(y-x2)<=0.05 and abs(z-x3)<=0.05):\n",
    "            print (\"si\")\n",
    "            flag = 1\n",
    "            print (x,y,z)\n",
    "        else :\n",
    "            print (\"no\")\n",
    "            x1 = x\n",
    "            x2 = y\n",
    "            x3 = z\n",
    "            count = count + 1\n",
    "            flag = 0\n",
    "            print (x1,x2,x3)   \n",
    "    "
   ]
  },
  {
   "cell_type": "code",
   "execution_count": 59,
   "metadata": {
    "scrolled": true
   },
   "outputs": [
    {
     "name": "stdout",
     "output_type": "stream",
     "text": [
      "----------------Iteracion  1\n",
      "no\n",
      "0.5 0.1 0.05166666666666667\n",
      "----------------Iteracion  2\n",
      "no\n",
      "0.9848333333333332 0.5927 0.043498703703703706\n",
      "----------------Iteracion  3\n",
      "si\n",
      "0.9363801296296297 0.6040242333333333 0.043642063353909466\n"
     ]
    }
   ],
   "source": [
    "a = np.array([[10,1,1],\n",
    "              [1,5,1],\n",
    "              [0.5,0.4,90]])\n",
    "b = np.array([10,4,5])\n",
    "\n",
    "x1=1\n",
    "x2=2\n",
    "x3=3\n",
    "seidel(a,b,x1,x2,x3)"
   ]
  },
  {
   "cell_type": "code",
   "execution_count": null,
   "metadata": {},
   "outputs": [],
   "source": []
  }
 ],
 "metadata": {
  "kernelspec": {
   "display_name": "Python 3",
   "language": "python",
   "name": "python3"
  },
  "language_info": {
   "codemirror_mode": {
    "name": "ipython",
    "version": 3
   },
   "file_extension": ".py",
   "mimetype": "text/x-python",
   "name": "python",
   "nbconvert_exporter": "python",
   "pygments_lexer": "ipython3",
   "version": "3.7.6"
  }
 },
 "nbformat": 4,
 "nbformat_minor": 4
}
