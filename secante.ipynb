{
 "cells": [
  {
   "cell_type": "code",
   "execution_count": 21,
   "metadata": {},
   "outputs": [],
   "source": [
    "import math"
   ]
  },
  {
   "cell_type": "code",
   "execution_count": 171,
   "metadata": {},
   "outputs": [],
   "source": [
    "def f(x): \n",
    "    result = ((x)**2)*math.cos(0.001*(90)*(x))-12*x+20\n",
    "    if(r==0):       \n",
    "        return (result)\n",
    "    else:        \n",
    "        raiz = result/(x-r) \n",
    "        return (raiz)\n",
    "             "
   ]
  },
  {
   "cell_type": "code",
   "execution_count": 212,
   "metadata": {},
   "outputs": [],
   "source": [
    "def f_raiz(x,r):\n",
    "    result = math.cosh(x)-((x)**2)\n",
    "    if(r==0):        \n",
    "        return (result)\n",
    "    else:        \n",
    "        raiz = result/(x-r) \n",
    "        return (raiz)\n",
    "             "
   ]
  },
  {
   "cell_type": "code",
   "execution_count": 213,
   "metadata": {},
   "outputs": [],
   "source": [
    "def raiz(x0,x1,r): \n",
    "    \n",
    "    ex = 10**-3\n",
    "    ey = 10**-3\n",
    "    \n",
    "    flag = 0\n",
    "    count = 1\n",
    "    while (flag == 0):\n",
    "        print (\"---------- Iteracion \",count)\n",
    "        print (\"x0: \",x0)\n",
    "        print (\"x1: \",x1) \n",
    "        f0=f_raiz(x0,r)\n",
    "        f1=f_raiz(x1,r)        \n",
    "        tag = (f1-f0)/(x1-x0)\n",
    "        x2= (x1-(f1/tag))       \n",
    "        print (\"tng =\",tag)\n",
    "        print (\"x2 =\",x2)\n",
    "        f2= f(x2)\n",
    "        if abs(f2) <= ey and abs(x2-x1) <= ex:            \n",
    "            print (\"------------->raiz\",x2,\"<-------------------\")\n",
    "            x0=x1\n",
    "            x1=x2\n",
    "            print (\"x0: \",x0)\n",
    "            print (\"x1: \",x1) \n",
    "            flag = 1\n",
    "        else:\n",
    "            x0=x1\n",
    "            x1=x2          \n",
    "            flag = 0\n",
    "            count = count +1"
   ]
  },
  {
   "cell_type": "code",
   "execution_count": 215,
   "metadata": {},
   "outputs": [
    {
     "name": "stdout",
     "output_type": "stream",
     "text": [
      "---------- Iteracion  1\n",
      "x0:  1.6\n",
      "x1:  1.7\n",
      "tng = -0.791490133049174\n",
      "x2 = 1.622065305005893\n",
      "f( 1.622065305005893 )= -0.0005820170343096009\n",
      "---------- Iteracion  2\n",
      "x0:  1.7\n",
      "x1:  1.622065305005893\n",
      "tng = -0.7840221236554943\n",
      "x2 = 1.6213229572879537\n",
      "f( 1.6213229572879537 )= 2.0280090561985986e-05\n",
      "------------->raiz 1.6213229572879537 <-------------------\n",
      "x0:  1.622065305005893\n",
      "x1:  1.6213229572879537\n"
     ]
    }
   ],
   "source": [
    "x0=1.6\n",
    "x1=1.7\n",
    "r=0\n",
    "raiz(x0,x1,r)"
   ]
  },
  {
   "cell_type": "code",
   "execution_count": 218,
   "metadata": {},
   "outputs": [
    {
     "name": "stdout",
     "output_type": "stream",
     "text": [
      "---------- Iteracion  1\n",
      "x0:  1.6\n",
      "x1:  1.7\n",
      "tng = 0.35023328578813673\n",
      "x2 = 3.9385711337835687\n",
      "f( 3.9385711337835687 )= 10.169987167308195\n",
      "---------- Iteracion  2\n",
      "x0:  1.7\n",
      "x1:  3.9385711337835687\n",
      "tng = 2.3107789248317974\n",
      "x2 = 2.0392891094991112\n",
      "f( 2.0392891094991112 )= -0.2510675018245734\n",
      "---------- Iteracion  3\n",
      "x0:  3.9385711337835687\n",
      "x1:  2.0392891094991112\n",
      "tng = 2.627050331573956\n",
      "x2 = 2.2679442633045\n",
      "f( 2.2679442633045 )= -0.26204731414233784\n",
      "---------- Iteracion  4\n",
      "x0:  2.0392891094991112\n",
      "x1:  2.2679442633045\n",
      "tng = 0.8547035225712003\n",
      "x2 = 2.7420925749785696\n",
      "f( 2.7420925749785696 )= 0.27285934781357124\n",
      "---------- Iteracion  5\n",
      "x0:  2.2679442633045\n",
      "x1:  2.7420925749785696\n",
      "tng = 1.368165488009553\n",
      "x2 = 2.564148367092115\n",
      "f( 2.564148367092115 )= -0.041568843140992406\n",
      "---------- Iteracion  6\n",
      "x0:  2.7420925749785696\n",
      "x1:  2.564148367092115\n",
      "tng = 1.6159378172385634\n",
      "x2 = 2.591432616764656\n",
      "f( 2.591432616764656 )= -0.003625814724177445\n",
      "---------- Iteracion  7\n",
      "x0:  2.564148367092115\n",
      "x1:  2.591432616764656\n",
      "tng = 1.4789528960062965\n",
      "x2 = 2.5939597633711284\n",
      "f( 2.5939597633711284 )= 6.402203232180881e-05\n",
      "---------- Iteracion  8\n",
      "x0:  2.591432616764656\n",
      "x1:  2.5939597633711284\n",
      "tng = 1.5049993327911537\n",
      "x2 = 2.5939160270299237\n",
      "f( 2.5939160270299237 )= -9.302866388338771e-08\n",
      "------------->raiz 2.5939160270299237 <-------------------\n",
      "x0:  2.5939597633711284\n",
      "x1:  2.5939160270299237\n"
     ]
    }
   ],
   "source": [
    "x0=1.6\n",
    "x1=1.7\n",
    "r=1.6213229572879537\n",
    "raiz(x0,x1,r)"
   ]
  },
  {
   "cell_type": "code",
   "execution_count": null,
   "metadata": {},
   "outputs": [],
   "source": []
  }
 ],
 "metadata": {
  "kernelspec": {
   "display_name": "Python 3",
   "language": "python",
   "name": "python3"
  },
  "language_info": {
   "codemirror_mode": {
    "name": "ipython",
    "version": 3
   },
   "file_extension": ".py",
   "mimetype": "text/x-python",
   "name": "python",
   "nbconvert_exporter": "python",
   "pygments_lexer": "ipython3",
   "version": "3.7.6"
  }
 },
 "nbformat": 4,
 "nbformat_minor": 4
}
