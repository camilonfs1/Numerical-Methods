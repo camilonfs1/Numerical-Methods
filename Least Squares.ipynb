{
 "cells": [
  {
   "cell_type": "code",
   "execution_count": 42,
   "metadata": {},
   "outputs": [],
   "source": [
    "import numpy as np"
   ]
  },
  {
   "cell_type": "code",
   "execution_count": 56,
   "metadata": {},
   "outputs": [
    {
     "name": "stdout",
     "output_type": "stream",
     "text": [
      "[-0.20810616 13.18414828 -4.19313429]\n"
     ]
    }
   ],
   "source": [
    "F=np.array([\n",
    "   [1, 0    ,0   ], \n",
    "   [1, 0.7  ,0.49], \n",
    "   [1, 1.5  ,2.25], \n",
    "   [1, 2.2  ,4.84],\n",
    "   [1, 3    ,9   ]]) \n",
    "\n",
    "y=[0,6,12,7,2]\n",
    "\n",
    "FT = F.transpose()\n",
    "S=np.dot(FT, F)\n",
    "\n",
    "b=np.dot(FT, y)\n",
    "x = np.linalg.inv(S)\n",
    "c= np.dot(x, b)\n",
    "\n",
    "print(c)\n"
   ]
  }
 ],
 "metadata": {
  "kernelspec": {
   "display_name": "Python 3",
   "language": "python",
   "name": "python3"
  },
  "language_info": {
   "codemirror_mode": {
    "name": "ipython",
    "version": 3
   },
   "file_extension": ".py",
   "mimetype": "text/x-python",
   "name": "python",
   "nbconvert_exporter": "python",
   "pygments_lexer": "ipython3",
   "version": "3.7.6"
  }
 },
 "nbformat": 4,
 "nbformat_minor": 4
}
