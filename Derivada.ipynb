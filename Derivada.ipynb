{
 "cells": [
  {
   "cell_type": "code",
   "execution_count": 1,
   "metadata": {},
   "outputs": [],
   "source": [
    "import numpy as np\n",
    " "
   ]
  },
  {
   "cell_type": "code",
   "execution_count": 2,
   "metadata": {},
   "outputs": [
    {
     "name": "stdout",
     "output_type": "stream",
     "text": [
      "i: 0 j 0\n",
      "centrada 3669199.1990966797\n",
      "teorica 3668765.3770701853\n",
      "diferencia 433.8220264944248\n",
      "i: 0 j 1\n",
      "centrada 3668769.68383789\n",
      "teorica 3668765.3770701853\n",
      "diferencia 4.306767704896629\n",
      "i: 0 j 2\n",
      "centrada 3677368.1640625\n",
      "teorica 3668765.3770701853\n",
      "diferencia 8602.786992314737\n",
      "i: 0 j 3\n",
      "centrada 15258789.062499998\n",
      "teorica 3668765.3770701853\n",
      "diferencia 11590023.685429813\n",
      "i: 0 j 4\n",
      "centrada 610351562499.9999\n",
      "teorica 3668765.3770701853\n",
      "diferencia 610347893734.6228\n",
      "i: 0 j 5\n",
      "centrada 0.0\n",
      "teorica 3668765.3770701853\n",
      "diferencia 3668765.3770701853\n",
      "i: 0 j 6\n",
      "centrada 3.0517578125000008e+19\n",
      "teorica 3668765.3770701853\n",
      "diferencia 3.0517578124996338e+19\n",
      "i: 0 j 7\n",
      "centrada -1.5258789062500003e+23\n",
      "teorica 3668765.3770701853\n",
      "diferencia 1.5258789062500003e+23\n",
      "i: 0 j 8\n",
      "centrada 4.57763671875e+27\n",
      "teorica 3668765.3770701853\n",
      "diferencia 4.57763671875e+27\n",
      "i: 0 j 9\n",
      "centrada 0.0\n",
      "teorica 3668765.3770701853\n",
      "diferencia 3668765.3770701853\n"
     ]
    }
   ],
   "source": [
    "def funcion(x):\n",
    "  return pow(x,6.2)\n",
    "\n",
    "def derivadaTeorica(x):\n",
    "  return 6.2*5.2*4.2*3.2*pow(x,2.2)\n",
    "\n",
    "x = np.array([61])\n",
    "\n",
    "def h(j):\n",
    "  return pow (10,-j)\n",
    "\n",
    "def primeraProgresiva(i , j):\n",
    "  return (funcion(x[i]+h(j))-funcion(x[i]))/(h(j))\n",
    "\n",
    "def primeraRegresiva(i , j):\n",
    "  return -(funcion(x[i]-h(j))-funcion(x[i]))/(h(j))\n",
    "\n",
    "def primeraCentrada(i , j):\n",
    "  return ((funcion(x[i]+h(j)))-(funcion(x[i]-h(j))))/(2*h(j))\n",
    "\n",
    "def cuartaCentrada(i , j):\n",
    "  return ((funcion(x[i]+2*h(j)))-4*(funcion(x[i]+1*h(j)))+6*(funcion(x[i]))-4*(funcion(x[i]-h(j)))+(funcion(x[i]-2*h(j))))/(pow(h(j),4))\n",
    "\n",
    "for i in range (x.size):\n",
    "  for j in range (10):\n",
    "    print (\"i:\" , i, \"j\" , j )\n",
    "    #print (\"progresiva\"  , primeraProgresiva(i , j))\n",
    "    #print (\"regresiva\"   ,primeraRegresiva (i , j))\n",
    "    print (\"centrada\"  ,cuartaCentrada(i , j))\n",
    "    print (\"teorica\" , derivadaTeorica(x[i]))\n",
    "    print (\"diferencia\" , abs(cuartaCentrada(i , j)-derivadaTeorica(x[i])))"
   ]
  },
  {
   "cell_type": "code",
   "execution_count": null,
   "metadata": {},
   "outputs": [],
   "source": []
  }
 ],
 "metadata": {
  "kernelspec": {
   "display_name": "Python 3",
   "language": "python",
   "name": "python3"
  },
  "language_info": {
   "codemirror_mode": {
    "name": "ipython",
    "version": 3
   },
   "file_extension": ".py",
   "mimetype": "text/x-python",
   "name": "python",
   "nbconvert_exporter": "python",
   "pygments_lexer": "ipython3",
   "version": "3.7.6"
  }
 },
 "nbformat": 4,
 "nbformat_minor": 4
}
